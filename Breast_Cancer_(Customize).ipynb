{
  "cells": [
    {
      "cell_type": "code",
      "source": [
        "from google.colab import drive\n",
        "drive.mount('/content/drive')"
      ],
      "metadata": {
        "colab": {
          "base_uri": "https://localhost:8080/"
        },
        "id": "XbLNRfuZWFcl",
        "outputId": "b534564a-eb8e-4200-dcf2-a5a723191124"
      },
      "execution_count": 1,
      "outputs": [
        {
          "output_type": "stream",
          "name": "stdout",
          "text": [
            "Mounted at /content/drive\n"
          ]
        }
      ]
    },
    {
      "cell_type": "code",
      "execution_count": 39,
      "metadata": {
        "id": "nytWPfUIIAwm"
      },
      "outputs": [],
      "source": [
        "import tensorflow as tf\n",
        "from tensorflow.keras import models, layers\n",
        "import matplotlib.pyplot as plt\n",
        "from IPython.display import HTML\n",
        "import numpy as np\n",
        "import pandas as pd\n",
        "import PIL.Image as Image\n",
        "import os\n",
        "import tensorflow_hub as hub\n",
        "from tensorflow import keras\n",
        "from tensorflow.keras import layers\n",
        "from tensorflow.keras.models import Sequential\n",
        "from tensorflow.keras.layers import Input, Lambda, Dense, Flatten,Conv2D\n",
        "from tensorflow.keras.models import Model\n",
        "from tensorflow.keras.preprocessing import image\n",
        "from tensorflow.keras.preprocessing.image import ImageDataGenerator,load_img\n",
        "from glob import glob\n",
        "from keras.layers import Activation, BatchNormalization, Dense, Dropout, Flatten, Conv2D, MaxPooling2D\n",
        "from sklearn.utils.multiclass import unique_labels"
      ]
    },
    {
      "cell_type": "code",
      "source": [
        "from zipfile import ZipFile\n",
        "\n",
        "with ZipFile('/content/drive/MyDrive/Colab Notebooks/Breast Cancer/BUID Dataset.zip', 'r') as zipObj:\n",
        "\n",
        "     zipObj.extractall('BreastCancer')"
      ],
      "metadata": {
        "id": "2QDCT4MUH6mp"
      },
      "execution_count": 3,
      "outputs": []
    },
    {
      "cell_type": "code",
      "source": [
        "pip install split-folders"
      ],
      "metadata": {
        "colab": {
          "base_uri": "https://localhost:8080/"
        },
        "id": "VZWeGnzvaHb6",
        "outputId": "eb0f93dd-7982-42ed-ab57-9441ba186dc2"
      },
      "execution_count": 4,
      "outputs": [
        {
          "output_type": "stream",
          "name": "stdout",
          "text": [
            "Looking in indexes: https://pypi.org/simple, https://us-python.pkg.dev/colab-wheels/public/simple/\n",
            "Collecting split-folders\n",
            "  Downloading split_folders-0.5.1-py3-none-any.whl (8.4 kB)\n",
            "Installing collected packages: split-folders\n",
            "Successfully installed split-folders-0.5.1\n"
          ]
        }
      ]
    },
    {
      "cell_type": "code",
      "source": [
        "import splitfolders\n",
        "input_folder = '/content/BreastCancer/'"
      ],
      "metadata": {
        "id": "Q85gwPdrJDqE"
      },
      "execution_count": 7,
      "outputs": []
    },
    {
      "cell_type": "code",
      "source": [
        "splitfolders.ratio(input_folder, output=\"dataset3\",\n",
        "                   seed=123, ratio=(.8, .1, .1), \n",
        "                   group_prefix=None)"
      ],
      "metadata": {
        "colab": {
          "base_uri": "https://localhost:8080/"
        },
        "id": "8Mhc-WFwJri7",
        "outputId": "60f4148b-d138-43d7-bf47-64f4208a88e2"
      },
      "execution_count": 8,
      "outputs": [
        {
          "output_type": "stream",
          "name": "stderr",
          "text": [
            "Copying files: 779 files [00:00, 1506.55 files/s]\n"
          ]
        }
      ]
    },
    {
      "cell_type": "code",
      "execution_count": 40,
      "metadata": {
        "id": "8Dt0rr08Pcfd"
      },
      "outputs": [],
      "source": [
        "BATCH_SIZE = 64\n",
        "IMAGE_SIZE = 224\n",
        "CHANNELS=3\n",
        "EPOCHS = 100"
      ]
    },
    {
      "cell_type": "code",
      "source": [
        "train_ds = tf.keras.preprocessing.image_dataset_from_directory(\n",
        "'/content/dataset3/train',\n",
        "image_size= (IMAGE_SIZE, IMAGE_SIZE), batch_size= BATCH_SIZE)\n",
        "\n",
        "test_ds = tf.keras.preprocessing.image_dataset_from_directory(\n",
        "'/content/dataset3/test',\n",
        "image_size= (IMAGE_SIZE, IMAGE_SIZE), batch_size= BATCH_SIZE)\n",
        "\n",
        "val_ds = tf.keras.preprocessing.image_dataset_from_directory(\n",
        "'/content/dataset3/val',\n",
        "image_size= (IMAGE_SIZE, IMAGE_SIZE), batch_size= BATCH_SIZE)"
      ],
      "metadata": {
        "colab": {
          "base_uri": "https://localhost:8080/"
        },
        "id": "FgMEIsKgNp31",
        "outputId": "bcc7b9b0-04ed-4cf5-da33-2e3ee9be1ec0"
      },
      "execution_count": 41,
      "outputs": [
        {
          "output_type": "stream",
          "name": "stdout",
          "text": [
            "Found 622 files belonging to 3 classes.\n",
            "Found 80 files belonging to 3 classes.\n",
            "Found 77 files belonging to 3 classes.\n"
          ]
        }
      ]
    },
    {
      "cell_type": "code",
      "source": [
        "from PIL import Image\n",
        "im = Image.open(\"/content/dataset3/train/benign/benign (10).png\")\n",
        "print(im.mode) #RGB"
      ],
      "metadata": {
        "colab": {
          "base_uri": "https://localhost:8080/"
        },
        "id": "hVKEQFrYwtAc",
        "outputId": "07f9f291-b9b3-4cbf-dc35-bd7691bef229"
      },
      "execution_count": 42,
      "outputs": [
        {
          "output_type": "stream",
          "name": "stdout",
          "text": [
            "RGB\n"
          ]
        }
      ]
    },
    {
      "cell_type": "code",
      "source": [
        "train_dataset = tf.keras.preprocessing.image_dataset_from_directory('/content/dataset3/train')\n",
        "\n",
        "class_names= train_dataset.class_names\n",
        "class_names"
      ],
      "metadata": {
        "colab": {
          "base_uri": "https://localhost:8080/"
        },
        "id": "jz_VDGu4aZP0",
        "outputId": "b5445d82-a6ce-4327-d3cc-4ec6131f0960"
      },
      "execution_count": 43,
      "outputs": [
        {
          "output_type": "stream",
          "name": "stdout",
          "text": [
            "Found 622 files belonging to 3 classes.\n"
          ]
        },
        {
          "output_type": "execute_result",
          "data": {
            "text/plain": [
              "['benign', 'malignant', 'normal']"
            ]
          },
          "metadata": {},
          "execution_count": 43
        }
      ]
    },
    {
      "cell_type": "code",
      "source": [
        "resize_and_rescale = tf.keras.Sequential([\n",
        "  layers.experimental.preprocessing.Resizing(IMAGE_SIZE, IMAGE_SIZE),\n",
        "  layers.experimental.preprocessing.Rescaling(1./255),\n",
        "])"
      ],
      "metadata": {
        "id": "dCDG0EEcaksE"
      },
      "execution_count": 44,
      "outputs": []
    },
    {
      "cell_type": "code",
      "source": [
        "data_augmentation = tf.keras.Sequential([\n",
        "layers.experimental.preprocessing.RandomFlip(\"horizontal_and_vertical\"),\n",
        "layers.experimental.preprocessing.RandomRotation(0.3),\n",
        "])"
      ],
      "metadata": {
        "id": "ck6A9zotanit"
      },
      "execution_count": 45,
      "outputs": []
    },
    {
      "cell_type": "code",
      "source": [
        "training_ds = train_ds.map(\n",
        "lambda x, y: (data_augmentation(x, training=True), y)\n",
        ").prefetch(buffer_size=tf.data.AUTOTUNE)"
      ],
      "metadata": {
        "id": "q33QkfEJaqD4"
      },
      "execution_count": 46,
      "outputs": []
    },
    {
      "cell_type": "code",
      "source": [
        "input_shape = (BATCH_SIZE, IMAGE_SIZE, IMAGE_SIZE, CHANNELS)\n",
        "n_classes = 3\n",
        "\n",
        "model = models.Sequential([\n",
        "    resize_and_rescale,\n",
        "    layers.Conv2D(32, kernel_size = (3,3), activation='relu', input_shape=input_shape),\n",
        "    layers.MaxPooling2D((2, 2)),\n",
        "    layers.Conv2D(32,  kernel_size = (3,3), activation='relu'),\n",
        "    layers.MaxPooling2D((2, 2)),\n",
        "    layers.Conv2D(32,  kernel_size = (3,3), activation='relu'),\n",
        "    layers.MaxPooling2D((2, 2)),\n",
        "    layers.Conv2D(32, (3, 3), activation='relu'),\n",
        "    layers.MaxPooling2D((2, 2)),\n",
        "    layers.Conv2D(128, (3, 3), activation='relu'),\n",
        "    layers.MaxPooling2D((2, 2)),\n",
        "    layers.Flatten(),\n",
        "    layers.Dense(1024, activation='relu'),\n",
        "    layers.Dense(n_classes, activation='softmax'),\n",
        "])\n",
        "\n",
        "model.build(input_shape=input_shape)\n",
        "\n",
        "model.summary()"
      ],
      "metadata": {
        "colab": {
          "base_uri": "https://localhost:8080/"
        },
        "id": "RP-_l2tbasT5",
        "outputId": "b903075e-6212-469f-9f1b-a40216e5bc45"
      },
      "execution_count": 47,
      "outputs": [
        {
          "output_type": "stream",
          "name": "stdout",
          "text": [
            "Model: \"sequential_5\"\n",
            "_________________________________________________________________\n",
            " Layer (type)                Output Shape              Param #   \n",
            "=================================================================\n",
            " sequential_3 (Sequential)   (64, 224, 224, 3)         0         \n",
            "                                                                 \n",
            " conv2d_5 (Conv2D)           (64, 222, 222, 32)        896       \n",
            "                                                                 \n",
            " max_pooling2d_5 (MaxPooling  (64, 111, 111, 32)       0         \n",
            " 2D)                                                             \n",
            "                                                                 \n",
            " conv2d_6 (Conv2D)           (64, 109, 109, 32)        9248      \n",
            "                                                                 \n",
            " max_pooling2d_6 (MaxPooling  (64, 54, 54, 32)         0         \n",
            " 2D)                                                             \n",
            "                                                                 \n",
            " conv2d_7 (Conv2D)           (64, 52, 52, 32)          9248      \n",
            "                                                                 \n",
            " max_pooling2d_7 (MaxPooling  (64, 26, 26, 32)         0         \n",
            " 2D)                                                             \n",
            "                                                                 \n",
            " conv2d_8 (Conv2D)           (64, 24, 24, 32)          9248      \n",
            "                                                                 \n",
            " max_pooling2d_8 (MaxPooling  (64, 12, 12, 32)         0         \n",
            " 2D)                                                             \n",
            "                                                                 \n",
            " conv2d_9 (Conv2D)           (64, 10, 10, 128)         36992     \n",
            "                                                                 \n",
            " max_pooling2d_9 (MaxPooling  (64, 5, 5, 128)          0         \n",
            " 2D)                                                             \n",
            "                                                                 \n",
            " flatten_1 (Flatten)         (64, 3200)                0         \n",
            "                                                                 \n",
            " dense_2 (Dense)             (64, 1024)                3277824   \n",
            "                                                                 \n",
            " dense_3 (Dense)             (64, 3)                   3075      \n",
            "                                                                 \n",
            "=================================================================\n",
            "Total params: 3,346,531\n",
            "Trainable params: 3,346,531\n",
            "Non-trainable params: 0\n",
            "_________________________________________________________________\n"
          ]
        }
      ]
    },
    {
      "cell_type": "code",
      "source": [
        "model.compile(\n",
        "    optimizer='adam',\n",
        "    loss=tf.keras.losses.SparseCategoricalCrossentropy(from_logits=False),\n",
        "    metrics=['accuracy']\n",
        ")"
      ],
      "metadata": {
        "id": "nqGqZ5krayE1"
      },
      "execution_count": 48,
      "outputs": []
    },
    {
      "cell_type": "code",
      "source": [
        "import time\n",
        "start = time.time()\n",
        "history = model.fit(\n",
        "    training_ds,\n",
        "    batch_size=BATCH_SIZE,\n",
        "    validation_data=val_ds,\n",
        "    verbose=1,\n",
        "    epochs=EPOCHS,\n",
        ")\n",
        "print(\"Total time: \", time.time() - start, \"seconds\")"
      ],
      "metadata": {
        "colab": {
          "base_uri": "https://localhost:8080/"
        },
        "id": "O1tzMBbya1st",
        "outputId": "640e0ac1-e209-4a5d-b2b8-7a000e6a324e"
      },
      "execution_count": 36,
      "outputs": [
        {
          "output_type": "stream",
          "name": "stdout",
          "text": [
            "Epoch 1/100\n",
            "10/10 [==============================] - 7s 441ms/step - loss: 0.5139 - accuracy: 0.7878 - val_loss: 1.4323 - val_accuracy: 0.6753\n",
            "Epoch 2/100\n",
            "10/10 [==============================] - 8s 454ms/step - loss: 0.5075 - accuracy: 0.7797 - val_loss: 1.5131 - val_accuracy: 0.7532\n",
            "Epoch 3/100\n",
            "10/10 [==============================] - 7s 441ms/step - loss: 0.4929 - accuracy: 0.7814 - val_loss: 1.2841 - val_accuracy: 0.7143\n",
            "Epoch 4/100\n",
            "10/10 [==============================] - 7s 438ms/step - loss: 0.5138 - accuracy: 0.7701 - val_loss: 1.2928 - val_accuracy: 0.6494\n",
            "Epoch 5/100\n",
            "10/10 [==============================] - 7s 438ms/step - loss: 0.5233 - accuracy: 0.7653 - val_loss: 1.3357 - val_accuracy: 0.6494\n",
            "Epoch 6/100\n",
            "10/10 [==============================] - 7s 435ms/step - loss: 0.5007 - accuracy: 0.7765 - val_loss: 1.1845 - val_accuracy: 0.7143\n",
            "Epoch 7/100\n",
            "10/10 [==============================] - 7s 439ms/step - loss: 0.4784 - accuracy: 0.7717 - val_loss: 1.6490 - val_accuracy: 0.7013\n",
            "Epoch 8/100\n",
            "10/10 [==============================] - 7s 441ms/step - loss: 0.4557 - accuracy: 0.8055 - val_loss: 1.4272 - val_accuracy: 0.7273\n",
            "Epoch 9/100\n",
            "10/10 [==============================] - 7s 442ms/step - loss: 0.4333 - accuracy: 0.8199 - val_loss: 1.5970 - val_accuracy: 0.7273\n",
            "Epoch 10/100\n",
            "10/10 [==============================] - 7s 443ms/step - loss: 0.4598 - accuracy: 0.8087 - val_loss: 1.6345 - val_accuracy: 0.7013\n",
            "Epoch 11/100\n",
            "10/10 [==============================] - 7s 441ms/step - loss: 0.4780 - accuracy: 0.8103 - val_loss: 1.5934 - val_accuracy: 0.7143\n",
            "Epoch 12/100\n",
            "10/10 [==============================] - 7s 441ms/step - loss: 0.4373 - accuracy: 0.8199 - val_loss: 1.5893 - val_accuracy: 0.7273\n",
            "Epoch 13/100\n",
            "10/10 [==============================] - 7s 443ms/step - loss: 0.4027 - accuracy: 0.8248 - val_loss: 1.6692 - val_accuracy: 0.7013\n",
            "Epoch 14/100\n",
            "10/10 [==============================] - 7s 442ms/step - loss: 0.4186 - accuracy: 0.8215 - val_loss: 1.4534 - val_accuracy: 0.7013\n",
            "Epoch 15/100\n",
            "10/10 [==============================] - 7s 437ms/step - loss: 0.4011 - accuracy: 0.8119 - val_loss: 1.9489 - val_accuracy: 0.6883\n",
            "Epoch 16/100\n",
            "10/10 [==============================] - 7s 441ms/step - loss: 0.4264 - accuracy: 0.8151 - val_loss: 1.6603 - val_accuracy: 0.7143\n",
            "Epoch 17/100\n",
            "10/10 [==============================] - 7s 438ms/step - loss: 0.4351 - accuracy: 0.8071 - val_loss: 1.7728 - val_accuracy: 0.7273\n",
            "Epoch 18/100\n",
            "10/10 [==============================] - 7s 438ms/step - loss: 0.3783 - accuracy: 0.8505 - val_loss: 1.8409 - val_accuracy: 0.7013\n",
            "Epoch 19/100\n",
            "10/10 [==============================] - 7s 439ms/step - loss: 0.3783 - accuracy: 0.8473 - val_loss: 1.7670 - val_accuracy: 0.7273\n",
            "Epoch 20/100\n",
            "10/10 [==============================] - 7s 438ms/step - loss: 0.3649 - accuracy: 0.8585 - val_loss: 1.0428 - val_accuracy: 0.7013\n",
            "Epoch 21/100\n",
            "10/10 [==============================] - 7s 443ms/step - loss: 0.4224 - accuracy: 0.8232 - val_loss: 1.3650 - val_accuracy: 0.6623\n",
            "Epoch 22/100\n",
            "10/10 [==============================] - 7s 440ms/step - loss: 0.4520 - accuracy: 0.8006 - val_loss: 1.2046 - val_accuracy: 0.7143\n",
            "Epoch 23/100\n",
            "10/10 [==============================] - 7s 443ms/step - loss: 0.4168 - accuracy: 0.8360 - val_loss: 1.4500 - val_accuracy: 0.7143\n",
            "Epoch 24/100\n",
            "10/10 [==============================] - 7s 440ms/step - loss: 0.4034 - accuracy: 0.8392 - val_loss: 1.9930 - val_accuracy: 0.7273\n",
            "Epoch 25/100\n",
            "10/10 [==============================] - 7s 441ms/step - loss: 0.3848 - accuracy: 0.8408 - val_loss: 1.7311 - val_accuracy: 0.7013\n",
            "Epoch 26/100\n",
            "10/10 [==============================] - 7s 446ms/step - loss: 0.3609 - accuracy: 0.8585 - val_loss: 2.0026 - val_accuracy: 0.6883\n",
            "Epoch 27/100\n",
            "10/10 [==============================] - 7s 438ms/step - loss: 0.3720 - accuracy: 0.8537 - val_loss: 1.9678 - val_accuracy: 0.7013\n",
            "Epoch 28/100\n",
            "10/10 [==============================] - 7s 442ms/step - loss: 0.3459 - accuracy: 0.8601 - val_loss: 1.8691 - val_accuracy: 0.7532\n",
            "Epoch 29/100\n",
            "10/10 [==============================] - 7s 447ms/step - loss: 0.3534 - accuracy: 0.8537 - val_loss: 2.1685 - val_accuracy: 0.7143\n",
            "Epoch 30/100\n",
            "10/10 [==============================] - 7s 441ms/step - loss: 0.3432 - accuracy: 0.8601 - val_loss: 2.2174 - val_accuracy: 0.7403\n",
            "Epoch 31/100\n",
            "10/10 [==============================] - 7s 439ms/step - loss: 0.3273 - accuracy: 0.8601 - val_loss: 2.2510 - val_accuracy: 0.7532\n",
            "Epoch 32/100\n",
            "10/10 [==============================] - 7s 438ms/step - loss: 0.3461 - accuracy: 0.8585 - val_loss: 2.4043 - val_accuracy: 0.7273\n",
            "Epoch 33/100\n",
            "10/10 [==============================] - 7s 442ms/step - loss: 0.2889 - accuracy: 0.8875 - val_loss: 2.5853 - val_accuracy: 0.7273\n",
            "Epoch 34/100\n",
            "10/10 [==============================] - 7s 443ms/step - loss: 0.3387 - accuracy: 0.8521 - val_loss: 2.5795 - val_accuracy: 0.7403\n",
            "Epoch 35/100\n",
            "10/10 [==============================] - 7s 436ms/step - loss: 0.3331 - accuracy: 0.8746 - val_loss: 1.7645 - val_accuracy: 0.7143\n",
            "Epoch 36/100\n",
            "10/10 [==============================] - 7s 441ms/step - loss: 0.3165 - accuracy: 0.8569 - val_loss: 2.1593 - val_accuracy: 0.7532\n",
            "Epoch 37/100\n",
            "10/10 [==============================] - 7s 444ms/step - loss: 0.3379 - accuracy: 0.8633 - val_loss: 1.8215 - val_accuracy: 0.7403\n",
            "Epoch 38/100\n",
            "10/10 [==============================] - 7s 444ms/step - loss: 0.3096 - accuracy: 0.8666 - val_loss: 2.0129 - val_accuracy: 0.7662\n",
            "Epoch 39/100\n",
            "10/10 [==============================] - 7s 444ms/step - loss: 0.3080 - accuracy: 0.8762 - val_loss: 2.2245 - val_accuracy: 0.7273\n",
            "Epoch 40/100\n",
            "10/10 [==============================] - 7s 438ms/step - loss: 0.2885 - accuracy: 0.8826 - val_loss: 2.3143 - val_accuracy: 0.7143\n",
            "Epoch 41/100\n",
            "10/10 [==============================] - 7s 436ms/step - loss: 0.3270 - accuracy: 0.8698 - val_loss: 2.5056 - val_accuracy: 0.6883\n",
            "Epoch 42/100\n",
            "10/10 [==============================] - 7s 439ms/step - loss: 0.3141 - accuracy: 0.8762 - val_loss: 2.3592 - val_accuracy: 0.7662\n",
            "Epoch 43/100\n",
            "10/10 [==============================] - 7s 444ms/step - loss: 0.3203 - accuracy: 0.8794 - val_loss: 2.2826 - val_accuracy: 0.7143\n",
            "Epoch 44/100\n",
            "10/10 [==============================] - 7s 433ms/step - loss: 0.2691 - accuracy: 0.9019 - val_loss: 2.3974 - val_accuracy: 0.6883\n",
            "Epoch 45/100\n",
            "10/10 [==============================] - 7s 446ms/step - loss: 0.2794 - accuracy: 0.8907 - val_loss: 2.7041 - val_accuracy: 0.7013\n",
            "Epoch 46/100\n",
            "10/10 [==============================] - 7s 436ms/step - loss: 0.2547 - accuracy: 0.9051 - val_loss: 2.7388 - val_accuracy: 0.7143\n",
            "Epoch 47/100\n",
            "10/10 [==============================] - 7s 435ms/step - loss: 0.2527 - accuracy: 0.9035 - val_loss: 2.7742 - val_accuracy: 0.7273\n",
            "Epoch 48/100\n",
            "10/10 [==============================] - 7s 441ms/step - loss: 0.3057 - accuracy: 0.8682 - val_loss: 3.2286 - val_accuracy: 0.7403\n",
            "Epoch 49/100\n",
            "10/10 [==============================] - 7s 440ms/step - loss: 0.3112 - accuracy: 0.8682 - val_loss: 2.4854 - val_accuracy: 0.7143\n",
            "Epoch 50/100\n",
            "10/10 [==============================] - 7s 441ms/step - loss: 0.2785 - accuracy: 0.8923 - val_loss: 2.4660 - val_accuracy: 0.7143\n",
            "Epoch 51/100\n",
            "10/10 [==============================] - 7s 438ms/step - loss: 0.2774 - accuracy: 0.8955 - val_loss: 2.2099 - val_accuracy: 0.7403\n",
            "Epoch 52/100\n",
            "10/10 [==============================] - 7s 440ms/step - loss: 0.2529 - accuracy: 0.9035 - val_loss: 2.5209 - val_accuracy: 0.7403\n",
            "Epoch 53/100\n",
            "10/10 [==============================] - 7s 438ms/step - loss: 0.2445 - accuracy: 0.8987 - val_loss: 2.3180 - val_accuracy: 0.7273\n",
            "Epoch 54/100\n",
            "10/10 [==============================] - 7s 443ms/step - loss: 0.2412 - accuracy: 0.9068 - val_loss: 2.3025 - val_accuracy: 0.6883\n",
            "Epoch 55/100\n",
            "10/10 [==============================] - 7s 440ms/step - loss: 0.2385 - accuracy: 0.9068 - val_loss: 2.4638 - val_accuracy: 0.7403\n",
            "Epoch 56/100\n",
            "10/10 [==============================] - 7s 443ms/step - loss: 0.2099 - accuracy: 0.9196 - val_loss: 2.2147 - val_accuracy: 0.7273\n",
            "Epoch 57/100\n",
            "10/10 [==============================] - 7s 439ms/step - loss: 0.2329 - accuracy: 0.9003 - val_loss: 2.5415 - val_accuracy: 0.7013\n",
            "Epoch 58/100\n",
            "10/10 [==============================] - 7s 443ms/step - loss: 0.2462 - accuracy: 0.9051 - val_loss: 2.1305 - val_accuracy: 0.7143\n",
            "Epoch 59/100\n",
            "10/10 [==============================] - 7s 444ms/step - loss: 0.2424 - accuracy: 0.9019 - val_loss: 1.8768 - val_accuracy: 0.7532\n",
            "Epoch 60/100\n",
            "10/10 [==============================] - 7s 434ms/step - loss: 0.2256 - accuracy: 0.9100 - val_loss: 3.0534 - val_accuracy: 0.6883\n",
            "Epoch 61/100\n",
            "10/10 [==============================] - 7s 441ms/step - loss: 0.2210 - accuracy: 0.9100 - val_loss: 2.7367 - val_accuracy: 0.7403\n",
            "Epoch 62/100\n",
            "10/10 [==============================] - 7s 439ms/step - loss: 0.2386 - accuracy: 0.9051 - val_loss: 3.3768 - val_accuracy: 0.6753\n",
            "Epoch 63/100\n",
            "10/10 [==============================] - 7s 438ms/step - loss: 0.2266 - accuracy: 0.9100 - val_loss: 2.8369 - val_accuracy: 0.6883\n",
            "Epoch 64/100\n",
            "10/10 [==============================] - 7s 435ms/step - loss: 0.2188 - accuracy: 0.9228 - val_loss: 3.4706 - val_accuracy: 0.7013\n",
            "Epoch 65/100\n",
            "10/10 [==============================] - 7s 439ms/step - loss: 0.2564 - accuracy: 0.9019 - val_loss: 3.7653 - val_accuracy: 0.7403\n",
            "Epoch 66/100\n",
            "10/10 [==============================] - 7s 439ms/step - loss: 0.2277 - accuracy: 0.9100 - val_loss: 2.8690 - val_accuracy: 0.7403\n",
            "Epoch 67/100\n",
            "10/10 [==============================] - 7s 445ms/step - loss: 0.2009 - accuracy: 0.9228 - val_loss: 2.8933 - val_accuracy: 0.7273\n",
            "Epoch 68/100\n",
            "10/10 [==============================] - 7s 446ms/step - loss: 0.1987 - accuracy: 0.9196 - val_loss: 2.6987 - val_accuracy: 0.7273\n",
            "Epoch 69/100\n",
            "10/10 [==============================] - 7s 434ms/step - loss: 0.2109 - accuracy: 0.9084 - val_loss: 3.1832 - val_accuracy: 0.7273\n",
            "Epoch 70/100\n",
            "10/10 [==============================] - 7s 439ms/step - loss: 0.2330 - accuracy: 0.9100 - val_loss: 2.6380 - val_accuracy: 0.7273\n",
            "Epoch 71/100\n",
            "10/10 [==============================] - 7s 445ms/step - loss: 0.1656 - accuracy: 0.9325 - val_loss: 2.8482 - val_accuracy: 0.7273\n",
            "Epoch 72/100\n",
            "10/10 [==============================] - 7s 442ms/step - loss: 0.1818 - accuracy: 0.9293 - val_loss: 3.3934 - val_accuracy: 0.6883\n",
            "Epoch 73/100\n",
            "10/10 [==============================] - 7s 444ms/step - loss: 0.1795 - accuracy: 0.9244 - val_loss: 3.4819 - val_accuracy: 0.7273\n",
            "Epoch 74/100\n",
            "10/10 [==============================] - 7s 441ms/step - loss: 0.1705 - accuracy: 0.9389 - val_loss: 3.4855 - val_accuracy: 0.7403\n",
            "Epoch 75/100\n",
            "10/10 [==============================] - 7s 437ms/step - loss: 0.1663 - accuracy: 0.9437 - val_loss: 3.8154 - val_accuracy: 0.7013\n",
            "Epoch 76/100\n",
            "10/10 [==============================] - 7s 440ms/step - loss: 0.1916 - accuracy: 0.9293 - val_loss: 2.2430 - val_accuracy: 0.7403\n",
            "Epoch 77/100\n",
            "10/10 [==============================] - 7s 438ms/step - loss: 0.2261 - accuracy: 0.9196 - val_loss: 3.5391 - val_accuracy: 0.7273\n",
            "Epoch 78/100\n",
            "10/10 [==============================] - 7s 438ms/step - loss: 0.2045 - accuracy: 0.9180 - val_loss: 3.2687 - val_accuracy: 0.7013\n",
            "Epoch 79/100\n",
            "10/10 [==============================] - 7s 446ms/step - loss: 0.2144 - accuracy: 0.9132 - val_loss: 3.0377 - val_accuracy: 0.7143\n",
            "Epoch 80/100\n",
            "10/10 [==============================] - 7s 438ms/step - loss: 0.1730 - accuracy: 0.9437 - val_loss: 3.1881 - val_accuracy: 0.7143\n",
            "Epoch 81/100\n",
            "10/10 [==============================] - 7s 436ms/step - loss: 0.1718 - accuracy: 0.9389 - val_loss: 3.2016 - val_accuracy: 0.7143\n",
            "Epoch 82/100\n",
            "10/10 [==============================] - 7s 439ms/step - loss: 0.1738 - accuracy: 0.9421 - val_loss: 3.1965 - val_accuracy: 0.6883\n",
            "Epoch 83/100\n",
            "10/10 [==============================] - 7s 436ms/step - loss: 0.1943 - accuracy: 0.9309 - val_loss: 2.5877 - val_accuracy: 0.7403\n",
            "Epoch 84/100\n",
            "10/10 [==============================] - 7s 438ms/step - loss: 0.2018 - accuracy: 0.9196 - val_loss: 2.4121 - val_accuracy: 0.6753\n",
            "Epoch 85/100\n",
            "10/10 [==============================] - 7s 437ms/step - loss: 0.1430 - accuracy: 0.9486 - val_loss: 2.4563 - val_accuracy: 0.7143\n",
            "Epoch 86/100\n",
            "10/10 [==============================] - 7s 435ms/step - loss: 0.1682 - accuracy: 0.9357 - val_loss: 2.6551 - val_accuracy: 0.7013\n",
            "Epoch 87/100\n",
            "10/10 [==============================] - 7s 439ms/step - loss: 0.1214 - accuracy: 0.9534 - val_loss: 2.9706 - val_accuracy: 0.7143\n",
            "Epoch 88/100\n",
            "10/10 [==============================] - 7s 437ms/step - loss: 0.2081 - accuracy: 0.9260 - val_loss: 2.4316 - val_accuracy: 0.7403\n",
            "Epoch 89/100\n",
            "10/10 [==============================] - 7s 441ms/step - loss: 0.2247 - accuracy: 0.9196 - val_loss: 2.3460 - val_accuracy: 0.7143\n",
            "Epoch 90/100\n",
            "10/10 [==============================] - 7s 444ms/step - loss: 0.1718 - accuracy: 0.9325 - val_loss: 1.7412 - val_accuracy: 0.7403\n",
            "Epoch 91/100\n",
            "10/10 [==============================] - 7s 435ms/step - loss: 0.1726 - accuracy: 0.9357 - val_loss: 2.3070 - val_accuracy: 0.7403\n",
            "Epoch 92/100\n",
            "10/10 [==============================] - 7s 442ms/step - loss: 0.1382 - accuracy: 0.9550 - val_loss: 3.2994 - val_accuracy: 0.7143\n",
            "Epoch 93/100\n",
            "10/10 [==============================] - 7s 439ms/step - loss: 0.1385 - accuracy: 0.9437 - val_loss: 3.0951 - val_accuracy: 0.7013\n",
            "Epoch 94/100\n",
            "10/10 [==============================] - 7s 438ms/step - loss: 0.1855 - accuracy: 0.9325 - val_loss: 2.1725 - val_accuracy: 0.7403\n",
            "Epoch 95/100\n",
            "10/10 [==============================] - 7s 438ms/step - loss: 0.1647 - accuracy: 0.9405 - val_loss: 2.1894 - val_accuracy: 0.7013\n",
            "Epoch 96/100\n",
            "10/10 [==============================] - 7s 440ms/step - loss: 0.1477 - accuracy: 0.9469 - val_loss: 1.9237 - val_accuracy: 0.6883\n",
            "Epoch 97/100\n",
            "10/10 [==============================] - 7s 434ms/step - loss: 0.1506 - accuracy: 0.9453 - val_loss: 2.3502 - val_accuracy: 0.6623\n",
            "Epoch 98/100\n",
            "10/10 [==============================] - 7s 438ms/step - loss: 0.1441 - accuracy: 0.9550 - val_loss: 2.2658 - val_accuracy: 0.7273\n",
            "Epoch 99/100\n",
            "10/10 [==============================] - 7s 442ms/step - loss: 0.1620 - accuracy: 0.9437 - val_loss: 1.9476 - val_accuracy: 0.7273\n",
            "Epoch 100/100\n",
            "10/10 [==============================] - 7s 439ms/step - loss: 0.1478 - accuracy: 0.9550 - val_loss: 1.9226 - val_accuracy: 0.7662\n",
            "Total time:  731.5698008537292 seconds\n"
          ]
        }
      ]
    },
    {
      "cell_type": "code",
      "source": [
        "scores = model.evaluate(test_ds)"
      ],
      "metadata": {
        "id": "ytfS2jhCa8hO",
        "colab": {
          "base_uri": "https://localhost:8080/"
        },
        "outputId": "00bb9c9c-5c14-4268-a71d-f8179802f607"
      },
      "execution_count": 37,
      "outputs": [
        {
          "output_type": "stream",
          "name": "stdout",
          "text": [
            "2/2 [==============================] - 0s 22ms/step - loss: 0.8203 - accuracy: 0.7500\n"
          ]
        }
      ]
    },
    {
      "cell_type": "code",
      "source": [
        "#model.save('Pig Cells.h5')"
      ],
      "metadata": {
        "id": "CLevtZtAcju4"
      },
      "execution_count": 49,
      "outputs": []
    },
    {
      "cell_type": "code",
      "execution_count": 50,
      "metadata": {
        "id": "kQZH-JH1Cke8"
      },
      "outputs": [],
      "source": [
        "acc = history.history['accuracy']\n",
        "val_acc = history.history['val_accuracy']\n",
        "\n",
        "loss = history.history['loss']\n",
        "val_loss = history.history['val_loss']"
      ]
    },
    {
      "cell_type": "code",
      "execution_count": 51,
      "metadata": {
        "id": "FitK3h5gCriy",
        "colab": {
          "base_uri": "https://localhost:8080/",
          "height": 336
        },
        "outputId": "6f6052b2-db4f-4d99-94f7-addfdc4e1078"
      },
      "outputs": [
        {
          "output_type": "display_data",
          "data": {
            "text/plain": [
              "<Figure size 1080x360 with 2 Axes>"
            ],
            "image/png": "[encoded data removed]"
          },
          "metadata": {
            "needs_background": "light"
          }
        }
      ],
      "source": [
        "plt.figure(figsize=(15, 5))\n",
        "plt.subplot(1, 2, 1)\n",
        "plt.plot(range(EPOCHS), acc, label='Training Accuracy')\n",
        "plt.plot(range(EPOCHS), val_acc, label='Validation Accuracy')\n",
        "plt.legend(loc='lower right')\n",
        "plt.title('Training and Validation Accuracy')\n",
        "\n",
        "plt.subplot(1, 2, 2)\n",
        "plt.plot(range(EPOCHS), loss, label='Training Loss')\n",
        "plt.plot(range(EPOCHS), val_loss, label='Validation Loss')\n",
        "plt.legend(loc='upper right')\n",
        "plt.title('Training and Validation Loss')\n",
        "plt.show()"
      ]
    },
    {
      "cell_type": "code",
      "source": [
        "import numpy as np\n",
        "for images_batch, labels_batch in test_ds.take(1):\n",
        "    x_test1 = images_batch.numpy().astype('uint8')\n",
        "    y_test1 = labels_batch.numpy()\n",
        "    batch_prediction = model.predict(images_batch)\n",
        "    y_predicted1 = np.argmax(batch_prediction,axis=1)"
      ],
      "metadata": {
        "id": "zUWb88tCpRCB"
      },
      "execution_count": 52,
      "outputs": []
    },
    {
      "cell_type": "code",
      "source": [
        "import numpy as np\n",
        "for images_batch, labels_batch in test_ds.take(2):\n",
        "    x_test2 = images_batch.numpy().astype('uint8')\n",
        "    y_test2 = labels_batch.numpy()\n",
        "    batch_prediction = model.predict(images_batch)\n",
        "    y_predicted2 = np.argmax(batch_prediction,axis=1)"
      ],
      "metadata": {
        "id": "Z8tFtkW4pSUb"
      },
      "execution_count": 53,
      "outputs": []
    },
    {
      "cell_type": "code",
      "source": [
        "import numpy as np\n",
        "for images_batch, labels_batch in test_ds.take(3):\n",
        "    x_test3 = images_batch.numpy().astype('uint8')\n",
        "    y_test3 = labels_batch.numpy()\n",
        "    batch_prediction = model.predict(images_batch)\n",
        "    y_predicted3 = np.argmax(batch_prediction,axis=1)"
      ],
      "metadata": {
        "id": "HoZMZzGBpVy9"
      },
      "execution_count": 54,
      "outputs": []
    },
    {
      "cell_type": "code",
      "source": [
        "import numpy as np\n",
        "for images_batch, labels_batch in test_ds.take(4):\n",
        "    x_test4 = images_batch.numpy().astype('uint8')\n",
        "    y_test4 = labels_batch.numpy()\n",
        "    batch_prediction = model.predict(images_batch)\n",
        "    y_predicted4 = np.argmax(batch_prediction,axis=1)"
      ],
      "metadata": {
        "id": "b76wVqXYpbd3"
      },
      "execution_count": 56,
      "outputs": []
    },
    {
      "cell_type": "code",
      "source": [
        "import numpy as np\n",
        "for images_batch, labels_batch in test_ds.take(5):\n",
        "    x_test5 = images_batch.numpy().astype('uint8')\n",
        "    y_test5 = labels_batch.numpy()\n",
        "    batch_prediction = model.predict(images_batch)\n",
        "    y_predicted5 = np.argmax(batch_prediction,axis=1)"
      ],
      "metadata": {
        "id": "n0j9zwe1phzp"
      },
      "execution_count": 57,
      "outputs": []
    },
    {
      "cell_type": "code",
      "source": [
        "x_test = np.concatenate((x_test1, x_test2, x_test3, x_test4, x_test5),axis = 0)"
      ],
      "metadata": {
        "id": "n8QUAoJnp6hc"
      },
      "execution_count": 58,
      "outputs": []
    },
    {
      "cell_type": "code",
      "source": [
        "y_test = np.hstack((y_test1, y_test2, y_test3, y_test4, y_test5))"
      ],
      "metadata": {
        "id": "Cj9frxkxqPUt"
      },
      "execution_count": 59,
      "outputs": []
    },
    {
      "cell_type": "code",
      "source": [
        "y_predict = np.hstack((y_predicted1, y_predicted2, y_predicted3, y_predicted4, y_predicted5))"
      ],
      "metadata": {
        "id": "pMBJJGvYqnS7"
      },
      "execution_count": 60,
      "outputs": []
    },
    {
      "cell_type": "code",
      "execution_count": 61,
      "metadata": {
        "id": "HNdVsByMSLDf"
      },
      "outputs": [],
      "source": [
        "from mlxtend.plotting import plot_confusion_matrix\n",
        "from sklearn.metrics import confusion_matrix"
      ]
    },
    {
      "cell_type": "code",
      "execution_count": 62,
      "metadata": {
        "id": "XlwCObcHT8v2",
        "colab": {
          "base_uri": "https://localhost:8080/"
        },
        "outputId": "7466442b-a8a7-4a96-ed2b-bf5d20b4dda2"
      },
      "outputs": [
        {
          "output_type": "stream",
          "name": "stdout",
          "text": [
            "              precision    recall  f1-score   support\n",
            "\n",
            "           0       0.00      0.00      0.00        73\n",
            "           1       0.24      0.97      0.38        31\n",
            "           2       0.00      0.00      0.00        24\n",
            "\n",
            "    accuracy                           0.23       128\n",
            "   macro avg       0.08      0.32      0.13       128\n",
            "weighted avg       0.06      0.23      0.09       128\n",
            "\n"
          ]
        },
        {
          "output_type": "stream",
          "name": "stderr",
          "text": [
            "/usr/local/lib/python3.7/dist-packages/sklearn/metrics/_classification.py:1318: UndefinedMetricWarning: Precision and F-score are ill-defined and being set to 0.0 in labels with no predicted samples. Use `zero_division` parameter to control this behavior.\n",
            "  _warn_prf(average, modifier, msg_start, len(result))\n",
            "/usr/local/lib/python3.7/dist-packages/sklearn/metrics/_classification.py:1318: UndefinedMetricWarning: Precision and F-score are ill-defined and being set to 0.0 in labels with no predicted samples. Use `zero_division` parameter to control this behavior.\n",
            "  _warn_prf(average, modifier, msg_start, len(result))\n",
            "/usr/local/lib/python3.7/dist-packages/sklearn/metrics/_classification.py:1318: UndefinedMetricWarning: Precision and F-score are ill-defined and being set to 0.0 in labels with no predicted samples. Use `zero_division` parameter to control this behavior.\n",
            "  _warn_prf(average, modifier, msg_start, len(result))\n"
          ]
        }
      ],
      "source": [
        "from sklearn.metrics import confusion_matrix,classification_report\n",
        "cm = confusion_matrix(y_test, y_predict)\n",
        "print(classification_report(y_test, y_predict))"
      ]
    }
  ],
  "metadata": {
    "accelerator": "GPU",
    "colab": {
      "collapsed_sections": [],
      "name": "Breast_Cancer (Customize).ipynb",
      "provenance": []
    },
    "kernelspec": {
      "display_name": "Python 3",
      "name": "python3"
    },
    "language_info": {
      "name": "python"
    }
  },
  "nbformat": 4,
  "nbformat_minor": 0
}